{
 "cells": [
  {
   "cell_type": "code",
   "execution_count": null,
   "metadata": {},
   "outputs": [],
   "source": [
    "%matplotlib inline\n",
    "import torch\n",
    "from d2l import torch as d2l\n",
    "\n",
    "x = torch.arange(-8.0, 8.0, 0.1, requires_grad=True)\n",
    "y = torch.sigmoid(x)\n",
    "y.backward(torch.ones_like(x))\n",
    "\n",
    "d2l.plot(x.detach().numpy(), [y.detach().numpy(), x.grad.numpy()],\n",
    "         legend=['sigmoid', 'gradient'], figsize=(4.5, 2.5))"
   ]
  },
  {
   "cell_type": "code",
   "execution_count": null,
   "metadata": {},
   "outputs": [],
   "source": [
    "import os\n",
    "\"\"\"\n",
    "说明\n",
    "    本代码是将原来的文件里文件夹进行拷贝，而不需要原来文件里的文件，会拷贝给定目录中所有的文件夹到指定的target_path中\n",
    "\"\"\"\n",
    "# 需要拷贝的目录\n",
    "path = r'E://Galaxy/dlwpt-code/'\n",
    "# 需要保存到的路径\n",
    "target_path = \"E://Galaxy/dlwpt-code_yz/\"\n",
    "# 创建一个空列表用来存放文件夹地址\n",
    "dir = []\n",
    "for root, dirs, files in os.walk(path):\n",
    "    # 拿到了所有的文件夹地址\n",
    "    dir.append(root)\n",
    "print(dir)\n",
    "# 判断原始存放的文件夹是否存在\n",
    "if os.path.exists(target_path):\n",
    "    pass\n",
    "else:\n",
    "    os.makedirs(target_path)\n",
    "for file_name in dir:\n",
    "    # 提取file_name文件夹地址的最后一个位，即为文件名\n",
    "    last_file_name = file_name.split(\"/\")[-1]\n",
    "    # 创建新的文件夹地址\n",
    "    new_file_name = os.path.join(target_path, last_file_name)\n",
    "    # 创建文件夹\n",
    "    if os.path.exists(new_file_name):\n",
    "        continue\n",
    "    else:\n",
    "        os.makedirs(new_file_name)"
   ]
  },
  {
   "cell_type": "code",
   "execution_count": 12,
   "metadata": {},
   "outputs": [
    {
     "name": "stdout",
     "output_type": "stream",
     "text": [
      "__del__ A方法被调用了\n",
      "waiting...\n",
      "waiting...\n",
      "waiting...\n"
     ]
    }
   ],
   "source": [
    "import time\n",
    "class A:\n",
    "    def __del__(self):\n",
    "        # 当对象被销毁时，会自动调用这个方法\n",
    "        print('__del__ A方法被调用了')\n",
    "class B:\n",
    "    def __del__(self):\n",
    "        # 当对象被销毁时，会自动调用这个方法\n",
    "        print('__del__ B方法被调用了')\n",
    "\n",
    "a0 = A()\n",
    "a1 = a0 # 引用计数加一\n",
    "del a1\n",
    "\n",
    "a3 = B()\n",
    "a2 = a3\n",
    "for x in range(3):\n",
    "    print(\"waiting...\")\n",
    "    time.sleep(1)\n",
    "del a2\n",
    "# del x 并不直接调用 x.__del__().前者会将 x 的引用计数减一，而后者仅会在 x 的引用计数变为零时被调用。\n",
    "\n"
   ]
  },
  {
   "cell_type": "code",
   "execution_count": 14,
   "metadata": {},
   "outputs": [
    {
     "name": "stdout",
     "output_type": "stream",
     "text": [
      "waiting...\n",
      "waiting...\n",
      "del a2\n",
      "waiting...\n",
      "waiting...\n",
      "__del__ method is called\n"
     ]
    }
   ],
   "source": [
    "import time\n",
    "class A:\n",
    "    def __del__(self):\n",
    "        # 当对象被销毁时，会自动调用这个方法\n",
    "        print('__del__ method is called')\n",
    "a1 = A()\n",
    "a2 = a1\n",
    "a3 = a1\n",
    "del a1\n",
    "for x in range(2):\n",
    "    print(\"waiting...\")\n",
    "    time.sleep(1)\n",
    "del a2\n",
    "print(\"del a2\")\n",
    "for x in range(2):\n",
    "    print(\"waiting...\")\n",
    "    time.sleep(1)\n",
    "del a3\n",
    "# del x 并不直接调用 x.__del__().前者会将 x 的引用计数减一，而后者仅会在 x 的引用计数变为零时被调用。\n",
    "\n"
   ]
  }
 ],
 "metadata": {
  "kernelspec": {
   "display_name": "Python 3.7.13 ('pytorch')",
   "language": "python",
   "name": "python3"
  },
  "language_info": {
   "codemirror_mode": {
    "name": "ipython",
    "version": 3
   },
   "file_extension": ".py",
   "mimetype": "text/x-python",
   "name": "python",
   "nbconvert_exporter": "python",
   "pygments_lexer": "ipython3",
   "version": "3.7.13"
  },
  "orig_nbformat": 4,
  "vscode": {
   "interpreter": {
    "hash": "9ebf9cfd872009544a161647ac82c48f4cc096aba58631b69e515c7576d66293"
   }
  }
 },
 "nbformat": 4,
 "nbformat_minor": 2
}
